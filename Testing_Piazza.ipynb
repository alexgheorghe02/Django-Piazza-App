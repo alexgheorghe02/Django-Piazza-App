{
 "cells": [
  {
   "cell_type": "code",
   "execution_count": 1,
   "metadata": {},
   "outputs": [],
   "source": [
    "import requests\n",
    "from itertools import cycle"
   ]
  },
  {
   "cell_type": "code",
   "execution_count": 2,
   "metadata": {},
   "outputs": [
    {
     "name": "stdout",
     "output_type": "stream",
     "text": [
      "{'username': 'olga', 'password': 'first'} {'access_token': 'mXQdouEZXxpXmlBV6HjV4whxztEx6F', 'expires_in': 36000, 'token_type': 'Bearer', 'scope': 'read write', 'refresh_token': 'OYgGIKSTWciw7CiZTh9kZRcseW54oT'}\n",
      "{'username': 'nick', 'password': 'second'} {'access_token': 'iMlB4EHc1K1Nvwn6BX8QliiSdlssUd', 'expires_in': 36000, 'token_type': 'Bearer', 'scope': 'read write', 'refresh_token': 'GpDT1HUViidx1UU6ty3Ba6TxW3a9m8'}\n",
      "{'username': 'mary', 'password': 'third'} {'access_token': '2yUs3qIBRObrShfieUcdFbIx41rClQ', 'expires_in': 36000, 'token_type': 'Bearer', 'scope': 'read write', 'refresh_token': 'njqOSLFPZwaeLryrJC2PEjEekbkmJC'}\n",
      "{'username': 'nestor', 'password': 'fourth'} {'access_token': 'TB52Hw13UwnqvQWvR37Op5htcKF7SJ', 'expires_in': 36000, 'token_type': 'Bearer', 'scope': 'read write', 'refresh_token': 'yTcuvP8AtKXLAJ8nsgVMbkQaJGdYrd'}\n",
      "{'olga': 'mXQdouEZXxpXmlBV6HjV4whxztEx6F', 'nick': 'iMlB4EHc1K1Nvwn6BX8QliiSdlssUd', 'mary': '2yUs3qIBRObrShfieUcdFbIx41rClQ', 'nestor': 'TB52Hw13UwnqvQWvR37Op5htcKF7SJ'}\n"
     ]
    }
   ],
   "source": [
    "#TC1 and TC2\n",
    "url = \"http://10.61.64.22:8000/authentication/register/\"\n",
    "\n",
    "olga = {'username': 'olga', 'password': 'first'}\n",
    "nick = {'username': 'nick', 'password': 'second'}\n",
    "mary = {'username': 'mary', 'password': 'third'}\n",
    "nestor = {'username': 'nestor', 'password': 'fourth'}\n",
    "\n",
    "new_users = [olga, nick, mary, nestor]\n",
    "tokens = {}\n",
    "\n",
    "for user in new_users:\n",
    "    add_user = requests.post(url, data = user)\n",
    "    response = add_user.json()\n",
    "    token = response['access_token']\n",
    "    tokens[user['username']] = token\n",
    "    print(user, response)\n",
    "\n",
    "print(tokens)\n",
    "\n"
   ]
  },
  {
   "cell_type": "code",
   "execution_count": 2,
   "metadata": {},
   "outputs": [
    {
     "name": "stdout",
     "output_type": "stream",
     "text": [
      "{'detail': 'Authentication credentials were not provided.'}\n"
     ]
    }
   ],
   "source": [
    "#TC3\n",
    "piazza_url = \"http://10.61.64.22:8000/v1/piazza/\"\n",
    "response = requests.get(piazza_url)\n",
    "print(response.json())"
   ]
  },
  {
   "cell_type": "code",
   "execution_count": 7,
   "metadata": {},
   "outputs": [
    {
     "name": "stdout",
     "output_type": "stream",
     "text": [
      "{'owner': 2, 'title': 'My first post!', 'topic': 'Tech', 'body': 'This section is so much fun.', 'post_time': '2021-04-16T21:18:35.246834Z', 'expiry_time': '2021-04-16T21:25:00Z', 'status': 'Live', 'number_of_likes': 0, 'number_of_dislikes': 0, 'number_of_comments': 0, 'comments': [], 'written_by': 'olga', 'this_id': 2}\n"
     ]
    }
   ],
   "source": [
    "#TC4\n",
    "piazza_url = \"http://10.61.64.22:8000/v1/piazza/\"\n",
    "headers = {'Authorization': 'Bearer '+ str(tokens['olga'])}\n",
    "olga_post = {'owner': 2, \n",
    "             'title': 'My first post!', \n",
    "             'topic': 'Tech', \n",
    "             'body': 'This section is so much fun.', \n",
    "             'expiry_time': '2021-04-16T21:25:00Z'}\n",
    "olga_response = requests.post(piazza_url, headers = headers, data = olga_post)\n",
    "print(olga_response.json())"
   ]
  },
  {
   "cell_type": "code",
   "execution_count": 9,
   "metadata": {},
   "outputs": [
    {
     "name": "stdout",
     "output_type": "stream",
     "text": [
      "{'owner': 3, 'title': 'I am Nick!', 'topic': 'Tech', 'body': 'Nick is here!', 'post_time': '2021-04-16T21:19:24.018140Z', 'expiry_time': '2021-04-17T20:18:00Z', 'status': 'Live', 'number_of_likes': 0, 'number_of_dislikes': 0, 'number_of_comments': 0, 'comments': [], 'written_by': 'nick', 'this_id': 3}\n"
     ]
    }
   ],
   "source": [
    "#TC5\n",
    "piazza_url = \"http://10.61.64.22:8000/v1/piazza/\"\n",
    "headers = {'Authorization': 'Bearer '+ str(tokens['nick'])}\n",
    "nick_post = {'owner': 3, \n",
    "             'title': 'I am Nick!', \n",
    "             'topic': 'Tech', \n",
    "             'body': 'Nick is here!', \n",
    "             'expiry_time': '2021-04-17T20:18:00Z'}\n",
    "nick_response = requests.post(piazza_url, headers = headers, data = nick_post)\n",
    "print(nick_response.json())"
   ]
  },
  {
   "cell_type": "code",
   "execution_count": 10,
   "metadata": {},
   "outputs": [
    {
     "name": "stdout",
     "output_type": "stream",
     "text": [
      "{'owner': 4, 'title': 'I am Mary!', 'topic': 'Tech', 'body': 'Awesome content.', 'post_time': '2021-04-16T21:19:53.329281Z', 'expiry_time': '2021-04-20T18:48:00Z', 'status': 'Live', 'number_of_likes': 0, 'number_of_dislikes': 0, 'number_of_comments': 0, 'comments': [], 'written_by': 'mary', 'this_id': 4}\n"
     ]
    }
   ],
   "source": [
    "#TC6\n",
    "piazza_url = \"http://10.61.64.22:8000/v1/piazza/\"\n",
    "headers = {'Authorization': 'Bearer '+ str(tokens['mary'])}\n",
    "mary_post = {'owner': 4, \n",
    "             'title': 'I am Mary!', \n",
    "             'topic': 'Tech', \n",
    "             'body': 'Awesome content.', \n",
    "             'expiry_time': '2021-04-20T18:48:00Z'}\n",
    "mary_response = requests.post(piazza_url, headers = headers, data = mary_post)\n",
    "print(mary_response.json())"
   ]
  },
  {
   "cell_type": "code",
   "execution_count": 11,
   "metadata": {},
   "outputs": [
    {
     "name": "stdout",
     "output_type": "stream",
     "text": [
      "[{'owner': 2, 'title': 'My first post!', 'topic': 'Tech', 'body': 'This section is so much fun.', 'post_time': '2021-04-16T21:18:35.246834Z', 'expiry_time': '2021-04-16T21:25:00Z', 'status': 'Live', 'number_of_likes': 0, 'number_of_dislikes': 0, 'number_of_comments': 0, 'comments': [], 'written_by': 'olga', 'this_id': 2}, {'owner': 3, 'title': 'I am Nick!', 'topic': 'Tech', 'body': 'Nick is here!', 'post_time': '2021-04-16T21:19:24.018140Z', 'expiry_time': '2021-04-17T20:18:00Z', 'status': 'Live', 'number_of_likes': 0, 'number_of_dislikes': 0, 'number_of_comments': 0, 'comments': [], 'written_by': 'nick', 'this_id': 3}, {'owner': 4, 'title': 'I am Mary!', 'topic': 'Tech', 'body': 'Awesome content.', 'post_time': '2021-04-16T21:19:53.329281Z', 'expiry_time': '2021-04-20T18:48:00Z', 'status': 'Live', 'number_of_likes': 0, 'number_of_dislikes': 0, 'number_of_comments': 0, 'comments': [], 'written_by': 'mary', 'this_id': 4}]\n"
     ]
    }
   ],
   "source": [
    "#TC7 - Nick\n",
    "piazza_url = \"http://10.61.64.22:8000/v1/piazza/\"\n",
    "headers = {'Authorization': 'Bearer '+ str(tokens['nick'])}\n",
    "params = dict(topic = 'Tech')\n",
    "nick_response = requests.get(piazza_url, headers=headers, params=params)\n",
    "print(nick_response.json())"
   ]
  },
  {
   "cell_type": "code",
   "execution_count": 12,
   "metadata": {},
   "outputs": [
    {
     "name": "stdout",
     "output_type": "stream",
     "text": [
      "[{'owner': 2, 'title': 'My first post!', 'topic': 'Tech', 'body': 'This section is so much fun.', 'post_time': '2021-04-16T21:18:35.246834Z', 'expiry_time': '2021-04-16T21:25:00Z', 'status': 'Live', 'number_of_likes': 0, 'number_of_dislikes': 0, 'number_of_comments': 0, 'comments': [], 'written_by': 'olga', 'this_id': 2}, {'owner': 3, 'title': 'I am Nick!', 'topic': 'Tech', 'body': 'Nick is here!', 'post_time': '2021-04-16T21:19:24.018140Z', 'expiry_time': '2021-04-17T20:18:00Z', 'status': 'Live', 'number_of_likes': 0, 'number_of_dislikes': 0, 'number_of_comments': 0, 'comments': [], 'written_by': 'nick', 'this_id': 3}, {'owner': 4, 'title': 'I am Mary!', 'topic': 'Tech', 'body': 'Awesome content.', 'post_time': '2021-04-16T21:19:53.329281Z', 'expiry_time': '2021-04-20T18:48:00Z', 'status': 'Live', 'number_of_likes': 0, 'number_of_dislikes': 0, 'number_of_comments': 0, 'comments': [], 'written_by': 'mary', 'this_id': 4}]\n"
     ]
    }
   ],
   "source": [
    "#TC7 - Olga\n",
    "piazza_url = \"http://10.61.64.22:8000/v1/piazza/\"\n",
    "headers = {'Authorization': 'Bearer '+ str(tokens['olga'])}\n",
    "params = dict(topic = 'Tech')\n",
    "olga_response = requests.get(piazza_url, headers=headers, params=params)\n",
    "print(olga_response.json())"
   ]
  },
  {
   "cell_type": "code",
   "execution_count": 15,
   "metadata": {},
   "outputs": [
    {
     "name": "stdout",
     "output_type": "stream",
     "text": [
      "{'blogpost': 4, 'author': 3, 'date_posted': '2021-04-16T21:30:15.190964Z', 'liked_by': 'nick'}\n"
     ]
    }
   ],
   "source": [
    "#TC8 - Nick\n",
    "like_url = \"http://10.61.64.22:8000/v1/like/\"\n",
    "headers = {'Authorization': 'Bearer '+ str(tokens['nick'])}\n",
    "nick_like = {'blogpost': 4, 'author': 3}\n",
    "nick_like_post = requests.post(like_url, headers = headers, data = nick_like)\n",
    "print(nick_like_post.json())"
   ]
  },
  {
   "cell_type": "code",
   "execution_count": 16,
   "metadata": {},
   "outputs": [
    {
     "name": "stdout",
     "output_type": "stream",
     "text": [
      "{'blogpost': 4, 'author': 2, 'date_posted': '2021-04-16T21:35:21.064354Z', 'liked_by': 'olga'}\n"
     ]
    }
   ],
   "source": [
    "#TC8 - Olga\n",
    "like_url = \"http://10.61.64.22:8000/v1/like/\"\n",
    "headers = {'Authorization': 'Bearer '+ str(tokens['olga'])}\n",
    "olga_like = {'blogpost': 4, 'author': 2}\n",
    "olga_like_post = requests.post(like_url, headers = headers, data = olga_like)\n",
    "print(olga_like_post.json())"
   ]
  },
  {
   "cell_type": "code",
   "execution_count": 23,
   "metadata": {
    "scrolled": true
   },
   "outputs": [
    {
     "name": "stdout",
     "output_type": "stream",
     "text": [
      "{'blogpost': 3, 'author': 5, 'date_posted': '2021-04-16T21:40:10.157761Z', 'liked_by': 'nestor'}\n",
      "{'blogpost': 4, 'author': 5, 'date_posted': '2021-04-16T21:40:10.322048Z', 'disliked_by': 'nestor'}\n"
     ]
    }
   ],
   "source": [
    "#TC9\n",
    "like_url = \"http://10.61.64.22:8000/v1/like/\"\n",
    "dislike_url = \"http://10.61.64.22:8000/v1/dislike/\"\n",
    "headers = {'Authorization': 'Bearer '+ str(tokens['nestor'])}\n",
    "nestor_like = {'blogpost': 3, 'author': 5}\n",
    "nestor_dislike = {'blogpost': 4, 'author': 5}\n",
    "nestor_like_post = requests.post(like_url, headers = headers, data = nestor_like)\n",
    "nestor_dislike_post = requests.post(dislike_url, headers = headers, data = nestor_dislike)\n",
    "print(nestor_like_post.json())\n",
    "print(nestor_dislike_post.json())"
   ]
  },
  {
   "cell_type": "code",
   "execution_count": 38,
   "metadata": {},
   "outputs": [
    {
     "name": "stdout",
     "output_type": "stream",
     "text": [
      "[{'owner': 2, 'title': 'My first post!', 'topic': 'Tech', 'body': 'This section is so much fun.', 'post_time': '2021-04-16T21:18:35.246834Z', 'expiry_time': '2021-04-16T21:25:00Z', 'status': 'Live', 'number_of_likes': 0, 'number_of_dislikes': 0, 'number_of_comments': 0, 'comments': [], 'written_by': 'olga', 'this_id': 2}, {'owner': 3, 'title': 'I am Nick!', 'topic': 'Tech', 'body': 'Nick is here!', 'post_time': '2021-04-16T21:19:24.018140Z', 'expiry_time': '2021-04-17T20:18:00Z', 'status': 'Live', 'number_of_likes': 1, 'number_of_dislikes': 0, 'number_of_comments': 0, 'comments': [], 'written_by': 'nick', 'this_id': 3}, {'owner': 4, 'title': 'I am Mary!', 'topic': 'Tech', 'body': 'Awesome content.', 'post_time': '2021-04-16T21:19:53.329281Z', 'expiry_time': '2021-04-20T18:48:00Z', 'status': 'Live', 'number_of_likes': 2, 'number_of_dislikes': 1, 'number_of_comments': 0, 'comments': [], 'written_by': 'mary', 'this_id': 4}]\n"
     ]
    }
   ],
   "source": [
    "piazza_url = \"http://10.61.64.22:8000/v1/piazza/\"\n",
    "headers = {'Authorization': 'Bearer '+ str(tokens['nick'])}\n",
    "params = dict(topic = 'Tech')\n",
    "nick_response = requests.get(piazza_url, headers=headers, params=params)\n",
    "print(nick_response.json())"
   ]
  },
  {
   "cell_type": "code",
   "execution_count": 27,
   "metadata": {},
   "outputs": [
    {
     "ename": "JSONDecodeError",
     "evalue": "Expecting value: line 1 column 1 (char 0)",
     "output_type": "error",
     "traceback": [
      "\u001b[1;31m---------------------------------------------------------------------------\u001b[0m",
      "\u001b[1;31mJSONDecodeError\u001b[0m                           Traceback (most recent call last)",
      "\u001b[1;32m<ipython-input-27-ff2ecc15103c>\u001b[0m in \u001b[0;36m<module>\u001b[1;34m\u001b[0m\n\u001b[0;32m      4\u001b[0m \u001b[0mmary_forbidden_like\u001b[0m \u001b[1;33m=\u001b[0m \u001b[1;33m{\u001b[0m\u001b[1;34m'blogpost'\u001b[0m\u001b[1;33m:\u001b[0m \u001b[1;36m4\u001b[0m\u001b[1;33m,\u001b[0m \u001b[1;34m'author'\u001b[0m\u001b[1;33m:\u001b[0m \u001b[1;36m4\u001b[0m\u001b[1;33m}\u001b[0m\u001b[1;33m\u001b[0m\u001b[1;33m\u001b[0m\u001b[0m\n\u001b[0;32m      5\u001b[0m \u001b[0mmary_forbidden_like_post\u001b[0m \u001b[1;33m=\u001b[0m \u001b[0mrequests\u001b[0m\u001b[1;33m.\u001b[0m\u001b[0mpost\u001b[0m\u001b[1;33m(\u001b[0m\u001b[0mlike_url\u001b[0m\u001b[1;33m,\u001b[0m \u001b[0mheaders\u001b[0m \u001b[1;33m=\u001b[0m \u001b[0mheaders\u001b[0m\u001b[1;33m,\u001b[0m \u001b[0mdata\u001b[0m \u001b[1;33m=\u001b[0m \u001b[0mmary_forbidden_like\u001b[0m\u001b[1;33m)\u001b[0m\u001b[1;33m\u001b[0m\u001b[1;33m\u001b[0m\u001b[0m\n\u001b[1;32m----> 6\u001b[1;33m \u001b[0mprint\u001b[0m\u001b[1;33m(\u001b[0m\u001b[0mmary_forbidden_like_post\u001b[0m\u001b[1;33m.\u001b[0m\u001b[0mjson\u001b[0m\u001b[1;33m(\u001b[0m\u001b[1;33m)\u001b[0m\u001b[1;33m)\u001b[0m\u001b[1;33m\u001b[0m\u001b[1;33m\u001b[0m\u001b[0m\n\u001b[0m",
      "\u001b[1;32m~\\anaconda3\\lib\\site-packages\\requests\\models.py\u001b[0m in \u001b[0;36mjson\u001b[1;34m(self, **kwargs)\u001b[0m\n\u001b[0;32m    896\u001b[0m                     \u001b[1;31m# used.\u001b[0m\u001b[1;33m\u001b[0m\u001b[1;33m\u001b[0m\u001b[1;33m\u001b[0m\u001b[0m\n\u001b[0;32m    897\u001b[0m                     \u001b[1;32mpass\u001b[0m\u001b[1;33m\u001b[0m\u001b[1;33m\u001b[0m\u001b[0m\n\u001b[1;32m--> 898\u001b[1;33m         \u001b[1;32mreturn\u001b[0m \u001b[0mcomplexjson\u001b[0m\u001b[1;33m.\u001b[0m\u001b[0mloads\u001b[0m\u001b[1;33m(\u001b[0m\u001b[0mself\u001b[0m\u001b[1;33m.\u001b[0m\u001b[0mtext\u001b[0m\u001b[1;33m,\u001b[0m \u001b[1;33m**\u001b[0m\u001b[0mkwargs\u001b[0m\u001b[1;33m)\u001b[0m\u001b[1;33m\u001b[0m\u001b[1;33m\u001b[0m\u001b[0m\n\u001b[0m\u001b[0;32m    899\u001b[0m \u001b[1;33m\u001b[0m\u001b[0m\n\u001b[0;32m    900\u001b[0m     \u001b[1;33m@\u001b[0m\u001b[0mproperty\u001b[0m\u001b[1;33m\u001b[0m\u001b[1;33m\u001b[0m\u001b[0m\n",
      "\u001b[1;32m~\\anaconda3\\lib\\json\\__init__.py\u001b[0m in \u001b[0;36mloads\u001b[1;34m(s, cls, object_hook, parse_float, parse_int, parse_constant, object_pairs_hook, **kw)\u001b[0m\n\u001b[0;32m    355\u001b[0m             \u001b[0mparse_int\u001b[0m \u001b[1;32mis\u001b[0m \u001b[1;32mNone\u001b[0m \u001b[1;32mand\u001b[0m \u001b[0mparse_float\u001b[0m \u001b[1;32mis\u001b[0m \u001b[1;32mNone\u001b[0m \u001b[1;32mand\u001b[0m\u001b[1;33m\u001b[0m\u001b[1;33m\u001b[0m\u001b[0m\n\u001b[0;32m    356\u001b[0m             parse_constant is None and object_pairs_hook is None and not kw):\n\u001b[1;32m--> 357\u001b[1;33m         \u001b[1;32mreturn\u001b[0m \u001b[0m_default_decoder\u001b[0m\u001b[1;33m.\u001b[0m\u001b[0mdecode\u001b[0m\u001b[1;33m(\u001b[0m\u001b[0ms\u001b[0m\u001b[1;33m)\u001b[0m\u001b[1;33m\u001b[0m\u001b[1;33m\u001b[0m\u001b[0m\n\u001b[0m\u001b[0;32m    358\u001b[0m     \u001b[1;32mif\u001b[0m \u001b[0mcls\u001b[0m \u001b[1;32mis\u001b[0m \u001b[1;32mNone\u001b[0m\u001b[1;33m:\u001b[0m\u001b[1;33m\u001b[0m\u001b[1;33m\u001b[0m\u001b[0m\n\u001b[0;32m    359\u001b[0m         \u001b[0mcls\u001b[0m \u001b[1;33m=\u001b[0m \u001b[0mJSONDecoder\u001b[0m\u001b[1;33m\u001b[0m\u001b[1;33m\u001b[0m\u001b[0m\n",
      "\u001b[1;32m~\\anaconda3\\lib\\json\\decoder.py\u001b[0m in \u001b[0;36mdecode\u001b[1;34m(self, s, _w)\u001b[0m\n\u001b[0;32m    335\u001b[0m \u001b[1;33m\u001b[0m\u001b[0m\n\u001b[0;32m    336\u001b[0m         \"\"\"\n\u001b[1;32m--> 337\u001b[1;33m         \u001b[0mobj\u001b[0m\u001b[1;33m,\u001b[0m \u001b[0mend\u001b[0m \u001b[1;33m=\u001b[0m \u001b[0mself\u001b[0m\u001b[1;33m.\u001b[0m\u001b[0mraw_decode\u001b[0m\u001b[1;33m(\u001b[0m\u001b[0ms\u001b[0m\u001b[1;33m,\u001b[0m \u001b[0midx\u001b[0m\u001b[1;33m=\u001b[0m\u001b[0m_w\u001b[0m\u001b[1;33m(\u001b[0m\u001b[0ms\u001b[0m\u001b[1;33m,\u001b[0m \u001b[1;36m0\u001b[0m\u001b[1;33m)\u001b[0m\u001b[1;33m.\u001b[0m\u001b[0mend\u001b[0m\u001b[1;33m(\u001b[0m\u001b[1;33m)\u001b[0m\u001b[1;33m)\u001b[0m\u001b[1;33m\u001b[0m\u001b[1;33m\u001b[0m\u001b[0m\n\u001b[0m\u001b[0;32m    338\u001b[0m         \u001b[0mend\u001b[0m \u001b[1;33m=\u001b[0m \u001b[0m_w\u001b[0m\u001b[1;33m(\u001b[0m\u001b[0ms\u001b[0m\u001b[1;33m,\u001b[0m \u001b[0mend\u001b[0m\u001b[1;33m)\u001b[0m\u001b[1;33m.\u001b[0m\u001b[0mend\u001b[0m\u001b[1;33m(\u001b[0m\u001b[1;33m)\u001b[0m\u001b[1;33m\u001b[0m\u001b[1;33m\u001b[0m\u001b[0m\n\u001b[0;32m    339\u001b[0m         \u001b[1;32mif\u001b[0m \u001b[0mend\u001b[0m \u001b[1;33m!=\u001b[0m \u001b[0mlen\u001b[0m\u001b[1;33m(\u001b[0m\u001b[0ms\u001b[0m\u001b[1;33m)\u001b[0m\u001b[1;33m:\u001b[0m\u001b[1;33m\u001b[0m\u001b[1;33m\u001b[0m\u001b[0m\n",
      "\u001b[1;32m~\\anaconda3\\lib\\json\\decoder.py\u001b[0m in \u001b[0;36mraw_decode\u001b[1;34m(self, s, idx)\u001b[0m\n\u001b[0;32m    353\u001b[0m             \u001b[0mobj\u001b[0m\u001b[1;33m,\u001b[0m \u001b[0mend\u001b[0m \u001b[1;33m=\u001b[0m \u001b[0mself\u001b[0m\u001b[1;33m.\u001b[0m\u001b[0mscan_once\u001b[0m\u001b[1;33m(\u001b[0m\u001b[0ms\u001b[0m\u001b[1;33m,\u001b[0m \u001b[0midx\u001b[0m\u001b[1;33m)\u001b[0m\u001b[1;33m\u001b[0m\u001b[1;33m\u001b[0m\u001b[0m\n\u001b[0;32m    354\u001b[0m         \u001b[1;32mexcept\u001b[0m \u001b[0mStopIteration\u001b[0m \u001b[1;32mas\u001b[0m \u001b[0merr\u001b[0m\u001b[1;33m:\u001b[0m\u001b[1;33m\u001b[0m\u001b[1;33m\u001b[0m\u001b[0m\n\u001b[1;32m--> 355\u001b[1;33m             \u001b[1;32mraise\u001b[0m \u001b[0mJSONDecodeError\u001b[0m\u001b[1;33m(\u001b[0m\u001b[1;34m\"Expecting value\"\u001b[0m\u001b[1;33m,\u001b[0m \u001b[0ms\u001b[0m\u001b[1;33m,\u001b[0m \u001b[0merr\u001b[0m\u001b[1;33m.\u001b[0m\u001b[0mvalue\u001b[0m\u001b[1;33m)\u001b[0m \u001b[1;32mfrom\u001b[0m \u001b[1;32mNone\u001b[0m\u001b[1;33m\u001b[0m\u001b[1;33m\u001b[0m\u001b[0m\n\u001b[0m\u001b[0;32m    356\u001b[0m         \u001b[1;32mreturn\u001b[0m \u001b[0mobj\u001b[0m\u001b[1;33m,\u001b[0m \u001b[0mend\u001b[0m\u001b[1;33m\u001b[0m\u001b[1;33m\u001b[0m\u001b[0m\n",
      "\u001b[1;31mJSONDecodeError\u001b[0m: Expecting value: line 1 column 1 (char 0)"
     ]
    }
   ],
   "source": [
    "#TC11\n",
    "piazza_url = \"http://10.61.64.22:8000/v1/like/\"\n",
    "headers = {'Authorization': 'Bearer '+ str(tokens['mary'])}\n",
    "mary_forbidden_like = {'blogpost': 4, 'author': 4}\n",
    "mary_forbidden_like_post = requests.post(like_url, headers = headers, data = mary_forbidden_like)\n",
    "print(mary_forbidden_like_post.json())"
   ]
  },
  {
   "cell_type": "code",
   "execution_count": 52,
   "metadata": {},
   "outputs": [
    {
     "name": "stdout",
     "output_type": "stream",
     "text": [
      "{'blogpost': 4, 'author': 3, 'comment': 'Never gonna give you up', 'date_posted': '2021-04-16T21:58:19.442569Z', 'written_by': 'nick'}\n",
      "{'blogpost': 4, 'author': 2, 'comment': 'Never gonna let you down', 'date_posted': '2021-04-16T21:58:19.586150Z', 'written_by': 'olga'}\n",
      "{'blogpost': 4, 'author': 3, 'comment': 'Never gonna run around', 'date_posted': '2021-04-16T21:58:19.823165Z', 'written_by': 'nick'}\n",
      "{'blogpost': 4, 'author': 2, 'comment': 'And desert you', 'date_posted': '2021-04-16T21:58:19.999973Z', 'written_by': 'olga'}\n"
     ]
    }
   ],
   "source": [
    "#TC12\n",
    "comment_url = \"http://10.61.64.22:8000/v1/comment/\"\n",
    "headers_nick = {'Authorization': 'Bearer '+ str(tokens['nick'])}\n",
    "headers_olga = {'Authorization': 'Bearer '+ str(tokens['olga'])}\n",
    "nick_comment_1 = {'blogpost': 4, 'author': 3, 'comment': 'Never gonna give you up'}\n",
    "olga_comment_1 = {'blogpost': 4, 'author': 2, 'comment': 'Never gonna let you down'}\n",
    "nick_comment_2 = {'blogpost': 4, 'author': 3, 'comment': 'Never gonna run around'}\n",
    "olga_comment_2 = {'blogpost': 4, 'author': 2, 'comment': 'And desert you'}\n",
    "headers = [headers_nick, headers_olga]\n",
    "comments = [nick_comment_1, olga_comment_1, nick_comment_2, olga_comment_2]\n",
    "join = zip(comments, cycle(headers))\n",
    "for entry in join:\n",
    "    commenting = requests.post(comment_url, headers = entry[1], data = entry[0])\n",
    "    print(commenting.json())\n"
   ]
  },
  {
   "cell_type": "code",
   "execution_count": 53,
   "metadata": {},
   "outputs": [
    {
     "name": "stdout",
     "output_type": "stream",
     "text": [
      "[{'owner': 2, 'title': 'My first post!', 'topic': 'Tech', 'body': 'This section is so much fun.', 'post_time': '2021-04-16T21:18:35.246834Z', 'expiry_time': '2021-04-16T21:25:00Z', 'status': 'Live', 'number_of_likes': 0, 'number_of_dislikes': 0, 'number_of_comments': 0, 'comments': [], 'written_by': 'olga', 'this_id': 2}, {'owner': 3, 'title': 'I am Nick!', 'topic': 'Tech', 'body': 'Nick is here!', 'post_time': '2021-04-16T21:19:24.018140Z', 'expiry_time': '2021-04-17T20:18:00Z', 'status': 'Live', 'number_of_likes': 1, 'number_of_dislikes': 0, 'number_of_comments': 0, 'comments': [], 'written_by': 'nick', 'this_id': 3}, {'owner': 4, 'title': 'I am Mary!', 'topic': 'Tech', 'body': 'Awesome content.', 'post_time': '2021-04-16T21:19:53.329281Z', 'expiry_time': '2021-04-20T18:48:00Z', 'status': 'Live', 'number_of_likes': 2, 'number_of_dislikes': 1, 'number_of_comments': 4, 'comments': [['Never gonna give you up', 'written by: nick'], ['Never gonna let you down', 'written by: olga'], ['Never gonna run around', 'written by: nick'], ['And desert you', 'written by: olga']], 'written_by': 'mary', 'this_id': 4}]\n"
     ]
    }
   ],
   "source": [
    "piazza_url = \"http://10.61.64.22:8000/v1/piazza/\"\n",
    "headers = {'Authorization': 'Bearer '+ str(tokens['nick'])}\n",
    "params = dict(topic = 'Tech')\n",
    "nick_response = requests.get(piazza_url, headers=headers, params=params)\n",
    "print(nick_response.json())"
   ]
  },
  {
   "cell_type": "code",
   "execution_count": 54,
   "metadata": {},
   "outputs": [
    {
     "name": "stdout",
     "output_type": "stream",
     "text": [
      "{'owner': 5, 'title': 'Nestor has landed!', 'topic': 'Health', 'body': 'Apples are awesome.', 'post_time': '2021-04-16T21:58:51.178573Z', 'expiry_time': '2021-04-16T22:00:00Z', 'status': 'Live', 'number_of_likes': 0, 'number_of_dislikes': 0, 'number_of_comments': 0, 'comments': [], 'written_by': 'nestor', 'this_id': 6}\n"
     ]
    }
   ],
   "source": [
    "#TC14\n",
    "piazza_url = \"http://10.61.64.22:8000/v1/piazza/\"\n",
    "headers = {'Authorization': 'Bearer '+ str(tokens['nestor'])}\n",
    "nestor_post = {'owner': 5, \n",
    "               'title': 'Nestor has landed!', \n",
    "               'topic': 'Health', \n",
    "               'body': 'Apples are awesome.', \n",
    "               'expiry_time': '2021-04-16T22:00:00Z'}\n",
    "nestor_response = requests.post(piazza_url, headers = headers, data = nestor_post)\n",
    "print(nestor_response.json())"
   ]
  },
  {
   "cell_type": "code",
   "execution_count": 55,
   "metadata": {},
   "outputs": [
    {
     "name": "stdout",
     "output_type": "stream",
     "text": [
      "[{'owner': 5, 'title': 'Nestor has landed!', 'topic': 'Health', 'body': 'Apples are awesome.', 'post_time': '2021-04-16T21:58:51.178573Z', 'expiry_time': '2021-04-16T22:00:00Z', 'status': 'Live', 'number_of_likes': 0, 'number_of_dislikes': 0, 'number_of_comments': 0, 'comments': [], 'written_by': 'nestor', 'this_id': 6}]\n"
     ]
    }
   ],
   "source": [
    "#TC15\n",
    "piazza_url = \"http://10.61.64.22:8000/v1/piazza/\"\n",
    "headers = {'Authorization': 'Bearer '+ str(tokens['mary'])}\n",
    "params = dict(topic = 'Health')\n",
    "mary_response = requests.get(piazza_url, headers=headers, params=params)\n",
    "print(mary_response.json())"
   ]
  },
  {
   "cell_type": "code",
   "execution_count": 57,
   "metadata": {},
   "outputs": [
    {
     "name": "stdout",
     "output_type": "stream",
     "text": [
      "{'blogpost': 6, 'author': 4, 'comment': 'Fruits are the enemy!', 'date_posted': '2021-04-16T21:59:49.457140Z', 'written_by': 'mary'}\n"
     ]
    }
   ],
   "source": [
    "#TC16\n",
    "comment_url = \"http://10.61.64.22:8000/v1/comment/\"\n",
    "headers = {'Authorization': 'Bearer '+ str(tokens['mary'])}\n",
    "mary_comment = {'blogpost': 6, 'author': 4, 'comment': 'Fruits are the enemy!'}\n",
    "mary_response = requests.post(comment_url, headers=headers, data=mary_comment)\n",
    "print(mary_response.json())"
   ]
  },
  {
   "cell_type": "code",
   "execution_count": 58,
   "metadata": {},
   "outputs": [
    {
     "ename": "JSONDecodeError",
     "evalue": "Expecting value: line 1 column 1 (char 0)",
     "output_type": "error",
     "traceback": [
      "\u001b[1;31m---------------------------------------------------------------------------\u001b[0m",
      "\u001b[1;31mJSONDecodeError\u001b[0m                           Traceback (most recent call last)",
      "\u001b[1;32m<ipython-input-58-9b56fcabac2a>\u001b[0m in \u001b[0;36m<module>\u001b[1;34m\u001b[0m\n\u001b[0;32m      4\u001b[0m \u001b[0mmary_dislike\u001b[0m \u001b[1;33m=\u001b[0m \u001b[1;33m{\u001b[0m\u001b[1;34m'blogpost'\u001b[0m\u001b[1;33m:\u001b[0m \u001b[1;36m6\u001b[0m\u001b[1;33m,\u001b[0m \u001b[1;34m'author'\u001b[0m\u001b[1;33m:\u001b[0m \u001b[1;36m4\u001b[0m\u001b[1;33m}\u001b[0m\u001b[1;33m\u001b[0m\u001b[1;33m\u001b[0m\u001b[0m\n\u001b[0;32m      5\u001b[0m \u001b[0mmary_response\u001b[0m \u001b[1;33m=\u001b[0m \u001b[0mrequests\u001b[0m\u001b[1;33m.\u001b[0m\u001b[0mpost\u001b[0m\u001b[1;33m(\u001b[0m\u001b[0mdislike_url\u001b[0m\u001b[1;33m,\u001b[0m \u001b[0mheaders\u001b[0m\u001b[1;33m=\u001b[0m\u001b[0mheaders\u001b[0m\u001b[1;33m,\u001b[0m \u001b[0mdata\u001b[0m\u001b[1;33m=\u001b[0m\u001b[0mmary_dislike\u001b[0m\u001b[1;33m)\u001b[0m\u001b[1;33m\u001b[0m\u001b[1;33m\u001b[0m\u001b[0m\n\u001b[1;32m----> 6\u001b[1;33m \u001b[0mprint\u001b[0m\u001b[1;33m(\u001b[0m\u001b[0mmary_response\u001b[0m\u001b[1;33m.\u001b[0m\u001b[0mjson\u001b[0m\u001b[1;33m(\u001b[0m\u001b[1;33m)\u001b[0m\u001b[1;33m)\u001b[0m\u001b[1;33m\u001b[0m\u001b[1;33m\u001b[0m\u001b[0m\n\u001b[0m",
      "\u001b[1;32m~\\anaconda3\\lib\\site-packages\\requests\\models.py\u001b[0m in \u001b[0;36mjson\u001b[1;34m(self, **kwargs)\u001b[0m\n\u001b[0;32m    896\u001b[0m                     \u001b[1;31m# used.\u001b[0m\u001b[1;33m\u001b[0m\u001b[1;33m\u001b[0m\u001b[1;33m\u001b[0m\u001b[0m\n\u001b[0;32m    897\u001b[0m                     \u001b[1;32mpass\u001b[0m\u001b[1;33m\u001b[0m\u001b[1;33m\u001b[0m\u001b[0m\n\u001b[1;32m--> 898\u001b[1;33m         \u001b[1;32mreturn\u001b[0m \u001b[0mcomplexjson\u001b[0m\u001b[1;33m.\u001b[0m\u001b[0mloads\u001b[0m\u001b[1;33m(\u001b[0m\u001b[0mself\u001b[0m\u001b[1;33m.\u001b[0m\u001b[0mtext\u001b[0m\u001b[1;33m,\u001b[0m \u001b[1;33m**\u001b[0m\u001b[0mkwargs\u001b[0m\u001b[1;33m)\u001b[0m\u001b[1;33m\u001b[0m\u001b[1;33m\u001b[0m\u001b[0m\n\u001b[0m\u001b[0;32m    899\u001b[0m \u001b[1;33m\u001b[0m\u001b[0m\n\u001b[0;32m    900\u001b[0m     \u001b[1;33m@\u001b[0m\u001b[0mproperty\u001b[0m\u001b[1;33m\u001b[0m\u001b[1;33m\u001b[0m\u001b[0m\n",
      "\u001b[1;32m~\\anaconda3\\lib\\json\\__init__.py\u001b[0m in \u001b[0;36mloads\u001b[1;34m(s, cls, object_hook, parse_float, parse_int, parse_constant, object_pairs_hook, **kw)\u001b[0m\n\u001b[0;32m    355\u001b[0m             \u001b[0mparse_int\u001b[0m \u001b[1;32mis\u001b[0m \u001b[1;32mNone\u001b[0m \u001b[1;32mand\u001b[0m \u001b[0mparse_float\u001b[0m \u001b[1;32mis\u001b[0m \u001b[1;32mNone\u001b[0m \u001b[1;32mand\u001b[0m\u001b[1;33m\u001b[0m\u001b[1;33m\u001b[0m\u001b[0m\n\u001b[0;32m    356\u001b[0m             parse_constant is None and object_pairs_hook is None and not kw):\n\u001b[1;32m--> 357\u001b[1;33m         \u001b[1;32mreturn\u001b[0m \u001b[0m_default_decoder\u001b[0m\u001b[1;33m.\u001b[0m\u001b[0mdecode\u001b[0m\u001b[1;33m(\u001b[0m\u001b[0ms\u001b[0m\u001b[1;33m)\u001b[0m\u001b[1;33m\u001b[0m\u001b[1;33m\u001b[0m\u001b[0m\n\u001b[0m\u001b[0;32m    358\u001b[0m     \u001b[1;32mif\u001b[0m \u001b[0mcls\u001b[0m \u001b[1;32mis\u001b[0m \u001b[1;32mNone\u001b[0m\u001b[1;33m:\u001b[0m\u001b[1;33m\u001b[0m\u001b[1;33m\u001b[0m\u001b[0m\n\u001b[0;32m    359\u001b[0m         \u001b[0mcls\u001b[0m \u001b[1;33m=\u001b[0m \u001b[0mJSONDecoder\u001b[0m\u001b[1;33m\u001b[0m\u001b[1;33m\u001b[0m\u001b[0m\n",
      "\u001b[1;32m~\\anaconda3\\lib\\json\\decoder.py\u001b[0m in \u001b[0;36mdecode\u001b[1;34m(self, s, _w)\u001b[0m\n\u001b[0;32m    335\u001b[0m \u001b[1;33m\u001b[0m\u001b[0m\n\u001b[0;32m    336\u001b[0m         \"\"\"\n\u001b[1;32m--> 337\u001b[1;33m         \u001b[0mobj\u001b[0m\u001b[1;33m,\u001b[0m \u001b[0mend\u001b[0m \u001b[1;33m=\u001b[0m \u001b[0mself\u001b[0m\u001b[1;33m.\u001b[0m\u001b[0mraw_decode\u001b[0m\u001b[1;33m(\u001b[0m\u001b[0ms\u001b[0m\u001b[1;33m,\u001b[0m \u001b[0midx\u001b[0m\u001b[1;33m=\u001b[0m\u001b[0m_w\u001b[0m\u001b[1;33m(\u001b[0m\u001b[0ms\u001b[0m\u001b[1;33m,\u001b[0m \u001b[1;36m0\u001b[0m\u001b[1;33m)\u001b[0m\u001b[1;33m.\u001b[0m\u001b[0mend\u001b[0m\u001b[1;33m(\u001b[0m\u001b[1;33m)\u001b[0m\u001b[1;33m)\u001b[0m\u001b[1;33m\u001b[0m\u001b[1;33m\u001b[0m\u001b[0m\n\u001b[0m\u001b[0;32m    338\u001b[0m         \u001b[0mend\u001b[0m \u001b[1;33m=\u001b[0m \u001b[0m_w\u001b[0m\u001b[1;33m(\u001b[0m\u001b[0ms\u001b[0m\u001b[1;33m,\u001b[0m \u001b[0mend\u001b[0m\u001b[1;33m)\u001b[0m\u001b[1;33m.\u001b[0m\u001b[0mend\u001b[0m\u001b[1;33m(\u001b[0m\u001b[1;33m)\u001b[0m\u001b[1;33m\u001b[0m\u001b[1;33m\u001b[0m\u001b[0m\n\u001b[0;32m    339\u001b[0m         \u001b[1;32mif\u001b[0m \u001b[0mend\u001b[0m \u001b[1;33m!=\u001b[0m \u001b[0mlen\u001b[0m\u001b[1;33m(\u001b[0m\u001b[0ms\u001b[0m\u001b[1;33m)\u001b[0m\u001b[1;33m:\u001b[0m\u001b[1;33m\u001b[0m\u001b[1;33m\u001b[0m\u001b[0m\n",
      "\u001b[1;32m~\\anaconda3\\lib\\json\\decoder.py\u001b[0m in \u001b[0;36mraw_decode\u001b[1;34m(self, s, idx)\u001b[0m\n\u001b[0;32m    353\u001b[0m             \u001b[0mobj\u001b[0m\u001b[1;33m,\u001b[0m \u001b[0mend\u001b[0m \u001b[1;33m=\u001b[0m \u001b[0mself\u001b[0m\u001b[1;33m.\u001b[0m\u001b[0mscan_once\u001b[0m\u001b[1;33m(\u001b[0m\u001b[0ms\u001b[0m\u001b[1;33m,\u001b[0m \u001b[0midx\u001b[0m\u001b[1;33m)\u001b[0m\u001b[1;33m\u001b[0m\u001b[1;33m\u001b[0m\u001b[0m\n\u001b[0;32m    354\u001b[0m         \u001b[1;32mexcept\u001b[0m \u001b[0mStopIteration\u001b[0m \u001b[1;32mas\u001b[0m \u001b[0merr\u001b[0m\u001b[1;33m:\u001b[0m\u001b[1;33m\u001b[0m\u001b[1;33m\u001b[0m\u001b[0m\n\u001b[1;32m--> 355\u001b[1;33m             \u001b[1;32mraise\u001b[0m \u001b[0mJSONDecodeError\u001b[0m\u001b[1;33m(\u001b[0m\u001b[1;34m\"Expecting value\"\u001b[0m\u001b[1;33m,\u001b[0m \u001b[0ms\u001b[0m\u001b[1;33m,\u001b[0m \u001b[0merr\u001b[0m\u001b[1;33m.\u001b[0m\u001b[0mvalue\u001b[0m\u001b[1;33m)\u001b[0m \u001b[1;32mfrom\u001b[0m \u001b[1;32mNone\u001b[0m\u001b[1;33m\u001b[0m\u001b[1;33m\u001b[0m\u001b[0m\n\u001b[0m\u001b[0;32m    356\u001b[0m         \u001b[1;32mreturn\u001b[0m \u001b[0mobj\u001b[0m\u001b[1;33m,\u001b[0m \u001b[0mend\u001b[0m\u001b[1;33m\u001b[0m\u001b[1;33m\u001b[0m\u001b[0m\n",
      "\u001b[1;31mJSONDecodeError\u001b[0m: Expecting value: line 1 column 1 (char 0)"
     ]
    }
   ],
   "source": [
    "#TC17\n",
    "dislike_url = \"http://10.61.64.22:8000/v1/dislike/\"\n",
    "headers = {'Authorization': 'Bearer '+ str(tokens['mary'])}\n",
    "mary_dislike = {'blogpost': 6, 'author': 4}\n",
    "mary_response = requests.post(dislike_url, headers=headers, data=mary_dislike)\n",
    "print(mary_response.json())"
   ]
  },
  {
   "cell_type": "code",
   "execution_count": 59,
   "metadata": {},
   "outputs": [
    {
     "name": "stdout",
     "output_type": "stream",
     "text": [
      "[{'owner': 5, 'title': 'Nestor has landed!', 'topic': 'Health', 'body': 'Apples are awesome.', 'post_time': '2021-04-16T21:58:51.178573Z', 'expiry_time': '2021-04-16T22:00:00Z', 'status': 'Live', 'number_of_likes': 0, 'number_of_dislikes': 0, 'number_of_comments': 1, 'comments': [['Fruits are the enemy!', 'written by: mary']], 'written_by': 'nestor', 'this_id': 6}]\n"
     ]
    }
   ],
   "source": [
    "#TC18\n",
    "piazza_url = \"http://10.61.64.22:8000/v1/piazza/\"\n",
    "headers = {'Authorization': 'Bearer '+ str(tokens['nestor'])}\n",
    "params = dict(topic = 'Health')\n",
    "nestor_response = requests.get(piazza_url, headers=headers, params=params)\n",
    "print(nestor_response.json())"
   ]
  },
  {
   "cell_type": "code",
   "execution_count": 60,
   "metadata": {},
   "outputs": [],
   "source": [
    "#TC19\n",
    "#Using the patch request to automatically change an overdue post to 'expired'\n",
    "piazza_url = \"http://10.61.64.22:8000/v1/piazza/6/\"\n",
    "headers = {'Authorization': 'Bearer '+ str(tokens['nestor'])}\n",
    "nestor_response = requests.patch(piazza_url, headers = headers)"
   ]
  },
  {
   "cell_type": "code",
   "execution_count": 61,
   "metadata": {},
   "outputs": [],
   "source": [
    "#TC19\n",
    "piazza_url = \"http://10.61.64.22:8000/v1/piazza/2/\"\n",
    "headers = {'Authorization': 'Bearer '+ str(tokens['nestor'])}\n",
    "nestor_response = requests.patch(piazza_url, headers = headers)"
   ]
  },
  {
   "cell_type": "code",
   "execution_count": 62,
   "metadata": {},
   "outputs": [
    {
     "name": "stdout",
     "output_type": "stream",
     "text": [
      "[{'owner': 2, 'title': 'My first post!', 'topic': 'Tech', 'body': 'This section is so much fun.', 'post_time': '2021-04-16T21:18:35.246834Z', 'expiry_time': '2021-04-16T21:25:00Z', 'status': 'Expired', 'number_of_likes': 0, 'number_of_dislikes': 0, 'number_of_comments': 0, 'comments': [], 'written_by': 'olga', 'this_id': 2}, {'owner': 5, 'title': 'Nestor has landed!', 'topic': 'Health', 'body': 'Apples are awesome.', 'post_time': '2021-04-16T21:58:51.178573Z', 'expiry_time': '2021-04-16T22:00:00Z', 'status': 'Expired', 'number_of_likes': 0, 'number_of_dislikes': 0, 'number_of_comments': 1, 'comments': [['Fruits are the enemy!', 'written by: mary']], 'written_by': 'nestor', 'this_id': 6}]\n"
     ]
    }
   ],
   "source": [
    "#TC19\n",
    "#Let's first browse all expired posts\n",
    "piazza_url = \"http://10.61.64.22:8000/v1/piazza/\"\n",
    "headers = {'Authorization': 'Bearer '+ str(tokens['nick'])}\n",
    "params = dict(status = 'Expired')\n",
    "nick_response = requests.get(piazza_url, headers=headers, params=params)\n",
    "print(nick_response.json())"
   ]
  },
  {
   "cell_type": "code",
   "execution_count": 63,
   "metadata": {},
   "outputs": [
    {
     "name": "stdout",
     "output_type": "stream",
     "text": [
      "[]\n"
     ]
    }
   ],
   "source": [
    "#TC19\n",
    "#Browsing expired posts in Sport\n",
    "piazza_url = \"http://10.61.64.22:8000/v1/piazza/\"\n",
    "headers = {'Authorization': 'Bearer '+ str(tokens['nick'])}\n",
    "params = dict(status = 'Expired', topic = 'Sport')\n",
    "nick_response = requests.get(piazza_url, headers=headers, params=params)\n",
    "print(nick_response.json())"
   ]
  },
  {
   "cell_type": "code",
   "execution_count": null,
   "metadata": {},
   "outputs": [],
   "source": []
  }
 ],
 "metadata": {
  "kernelspec": {
   "display_name": "Python 3",
   "language": "python",
   "name": "python3"
  },
  "language_info": {
   "codemirror_mode": {
    "name": "ipython",
    "version": 3
   },
   "file_extension": ".py",
   "mimetype": "text/x-python",
   "name": "python",
   "nbconvert_exporter": "python",
   "pygments_lexer": "ipython3",
   "version": "3.8.5"
  }
 },
 "nbformat": 4,
 "nbformat_minor": 4
}
